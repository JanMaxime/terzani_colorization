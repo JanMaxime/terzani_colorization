{
 "cells": [
  {
   "cell_type": "code",
   "execution_count": 2,
   "metadata": {},
   "outputs": [],
   "source": [
    "import json\n",
    "import pandas as pd\n",
    "import requests\n",
    "from bs4 import BeautifulSoup\n",
    "import numpy as np\n",
    "import urllib.request, json\n",
    "import cv2\n",
    "import matplotlib.pyplot as plt\n",
    "import matplotlib.image as mpimg\n",
    "import pickle\n",
    "from tqdm import tqdm"
   ]
  },
  {
   "cell_type": "markdown",
   "metadata": {},
   "source": [
    "Generic class to store an image and its IIIF representation"
   ]
  },
  {
   "cell_type": "code",
   "execution_count": 3,
   "metadata": {},
   "outputs": [],
   "source": [
    "class Terzani_Photo(object):\n",
    "    def __init__(self, iiif, country):\n",
    "        self.iiif = iiif\n",
    "        self.country = country\n",
    "        \n",
    "    def get_photo_link(self):\n",
    "        return self.iiif[\"images\"][0][\"resource\"][\"@id\"]"
   ]
  },
  {
   "cell_type": "markdown",
   "metadata": {},
   "source": [
    "First we need to know all the collections for the Terzani archive. For this we scrape the HTML content from the Fondo Tiziano Terzani (collection 1352). We store the collections number in the ```collections``` list. We just need to discard collections 1353, 1360 and 1450 which are collections of collections"
   ]
  },
  {
   "cell_type": "code",
   "execution_count": 14,
   "metadata": {},
   "outputs": [],
   "source": [
    "r = requests.get('http://dl.cini.it/collections/show/1353') # /ip: Returns the requester's IP Address.\n",
    "soup = BeautifulSoup(r.text, \"html.parser\")\n",
    "collections = []\n",
    "unsupported_collections = ['1352', '1360', '1450']\n",
    "for a in soup.find_all(\"a\", href=True):\n",
    "    link = a['href']\n",
    "    if link.startswith(\"/collections/show/\") and link[-4:] not in unsupported_collections:\n",
    "        collections.append(link[-4:])\n",
    "    \n",
    "#Preview\n",
    "collections[:5]\n",
    "collections_country = dict.fromkeys(collections, None)\n",
    "collections_country['1460'] = \"China\"\n",
    "collections_country['1465'] = \"China\"\n",
    "for i in range(1451, 1460):\n",
    "    collections_country[str(i)] = \"China\"\n",
    "collections_country['1444'] = \"Japan\"\n",
    "collections_country['1404'] = \"South Africa\"\n",
    "collections_country['1446'] = \"Cambodia\"\n",
    "collections_country['1413'] = \"India\"\n",
    "collections_country['1414'] = \"India\"\n",
    "collections_country['1415'] = \"India\"\n",
    "collections_country['1416'] = \"India\"\n",
    "collections_country['1420'] = \"India\"\n",
    "collections_country['1418'] = \"South Korea\"\n",
    "collections_country['1419'] = \"Laos\"\n",
    "collections_country['1421'] = \"Philippines\"\n",
    "collections_country['1423'] = \"Tibet\"\n",
    "collections_country['1425'] = \"India\"\n",
    "collections_country['1424'] = \"Nepal\"\n",
    "collections_country['1426'] = \"Nepal\"\n",
    "collections_country['1427'] = \"Singapore\"\n",
    "collections_country['1429'] = \"Japan\"\n",
    "collections_country['1428'] = \"Japan\"\n",
    "collections_country['1433'] = \"Vietnam\"\n",
    "collections_country['1431'] = \"Vietnam\"\n",
    "collections_country['1432'] = \"Vietnam\"\n",
    "collections_country['1434'] = \"Myanmar\"\n",
    "collections_country['1435'] = \"Myanmar\"\n",
    "collections_country['1437'] = \"Japan\"\n",
    "collections_country['1403'] = \"Vietnam\"\n",
    "collections_country['1440'] = \"Cambodia\"\n",
    "collections_country['1442'] = \"Cambodia\"\n",
    "collections_country['1439'] = \"Cambodia\"\n",
    "collections_country['1441'] = \"Cambodia\"\n",
    "collections_country['1449'] = \"Cambodia\"\n",
    "collections_country['1438'] = \"Cambodia\""
   ]
  },
  {
   "cell_type": "markdown",
   "metadata": {},
   "source": [
    "Now we can read the manifest of every collection. For every entry of the manifest, we only keep it if it is the recto of a photo\n",
    "\n",
    "We check if an picture is color or black and white and store them seperately."
   ]
  },
  {
   "cell_type": "code",
   "execution_count": 17,
   "metadata": {},
   "outputs": [
    {
     "name": "stderr",
     "output_type": "stream",
     "text": [
      "100%|██████████████████████████████████████████████████████████████████████████████████| 59/59 [00:18<00:00,  3.11it/s]\n"
     ]
    }
   ],
   "source": [
    "terzani_recto_iiif_color = list() #to store color photos in Terzani photo collection\n",
    "terzani_recto_iiif_bw = list() #to store black and white photos in Terzani photo collection\n",
    "terzani_recto_iiif = list()\n",
    "\n",
    "threshold_color = 0.2\n",
    "\n",
    "iiif_format = \"/full/max/0/default.jpg\"\n",
    "\n",
    "for collection in tqdm(collections):\n",
    "    url = \"http://dl.cini.it/oa/collections/\"+collection+\"/manifest.json\"\n",
    "\n",
    "    response = urllib.request.urlopen(url)\n",
    "\n",
    "    data = json.loads(response.read())\n",
    "\n",
    "    for entry in data[\"sequences\"][0][\"canvases\"]:\n",
    "        if entry[\"label\"] == None:\n",
    "            continue\n",
    "        if  entry[\"label\"].lower().endswith(\"recto\"):\n",
    "            terzani_recto_iiif.append(Terzani_Photo(entry, collections_country[collection]))\n",
    "            '''\n",
    "            photo_link = entry[\"images\"][0][\"resource\"][\"service\"][\"@id\"] + iiif_format\n",
    "            photo = np.asarray(bytearray(urllib.request.urlopen(photo_link).read()), dtype=\"uint8\")\n",
    "            photo = cv2.imdecode(photo, cv2.IMREAD_COLOR)\n",
    "            b,g,r = cv2.split(photo)\n",
    "            isize = r.size\n",
    "            rg = np.abs(r-g)\n",
    "            rb = np.abs(r-b)\n",
    "            gb = np.abs(g-b)\n",
    "            diff =np.sum(rg+rb+gb)\n",
    "            diff = diff / isize / (255 * 3)\n",
    "            if diff > threshold_color: # As gray values have r-g = 0 and r-b = 0 and g-b = 0 diff will be near 0 for grayscale images and > 0 for colored images.\n",
    "\n",
    "                terzani_recto_iiif_color.append(Terzani_Photo(entry, collections_country[collection]))\n",
    "            else:\n",
    "                terzani_recto_iiif_bw.append(Terzani_Photo(entry, collections_country[collection]))\n",
    "            '''"
   ]
  },
  {
   "cell_type": "code",
   "execution_count": 5,
   "metadata": {},
   "outputs": [
    {
     "data": {
      "text/plain": [
       "1354"
      ]
     },
     "execution_count": 5,
     "metadata": {},
     "output_type": "execute_result"
    }
   ],
   "source": [
    "len(terzani_recto_iiif_color)"
   ]
  },
  {
   "cell_type": "code",
   "execution_count": 6,
   "metadata": {},
   "outputs": [
    {
     "data": {
      "text/plain": [
       "7170"
      ]
     },
     "execution_count": 6,
     "metadata": {},
     "output_type": "execute_result"
    }
   ],
   "source": [
    "len(terzani_recto_iiif_bw)"
   ]
  },
  {
   "cell_type": "code",
   "execution_count": 19,
   "metadata": {},
   "outputs": [
    {
     "data": {
      "text/plain": [
       "'China'"
      ]
     },
     "execution_count": 19,
     "metadata": {},
     "output_type": "execute_result"
    }
   ],
   "source": [
    "terzani_recto_iiif[0].country"
   ]
  },
  {
   "cell_type": "markdown",
   "metadata": {},
   "source": [
    "Let's now dump this list in a pickle file"
   ]
  },
  {
   "cell_type": "code",
   "execution_count": 7,
   "metadata": {},
   "outputs": [],
   "source": [
    "with open('terzani_recto_iiif_color.pickle', 'wb') as file:\n",
    "    pickle.dump(terzani_recto_iiif_color, file)"
   ]
  },
  {
   "cell_type": "code",
   "execution_count": 8,
   "metadata": {},
   "outputs": [],
   "source": [
    "with open('terzani_recto_iiif_bw.pickle', 'wb') as file:\n",
    "    pickle.dump(terzani_recto_iiif_bw, file)"
   ]
  },
  {
   "cell_type": "code",
   "execution_count": 20,
   "metadata": {},
   "outputs": [],
   "source": [
    "with open('terzani_recto_iiif.pickle', 'wb') as file:\n",
    "    pickle.dump(terzani_recto_iiif, file)"
   ]
  },
  {
   "cell_type": "code",
   "execution_count": 4,
   "metadata": {},
   "outputs": [],
   "source": [
    "imgs = pd.read_pickle('terzani_recto_iiif_bw.pickle')"
   ]
  },
  {
   "cell_type": "code",
   "execution_count": 16,
   "metadata": {},
   "outputs": [
    {
     "data": {
      "text/plain": [
       "{'1460': 'China',\n",
       " '1465': 'China',\n",
       " '1451': 'China',\n",
       " '1452': 'China',\n",
       " '1453': 'China',\n",
       " '1454': 'China',\n",
       " '1455': 'China',\n",
       " '1456': 'China',\n",
       " '1457': 'China',\n",
       " '1458': 'China',\n",
       " '1459': 'China',\n",
       " '1393': None,\n",
       " '1405': None,\n",
       " '1406': None,\n",
       " '1407': None,\n",
       " '1443': None,\n",
       " '1408': None,\n",
       " '1409': None,\n",
       " '1410': None,\n",
       " '1411': None,\n",
       " '1444': 'Japan',\n",
       " '1445': None,\n",
       " '1446': 'Cambodia',\n",
       " '1412': None,\n",
       " '1404': 'South Africa',\n",
       " '1413': 'India',\n",
       " '1414': 'India',\n",
       " '1415': 'India',\n",
       " '1416': 'India',\n",
       " '1420': 'India',\n",
       " '1447': None,\n",
       " '1418': 'South Korea',\n",
       " '1417': None,\n",
       " '1419': 'Laos',\n",
       " '1448': None,\n",
       " '1421': 'Philippines',\n",
       " '1423': 'Tibet',\n",
       " '1422': None,\n",
       " '1425': 'India',\n",
       " '1424': 'Nepal',\n",
       " '1426': 'Nepal',\n",
       " '1427': 'Singapore',\n",
       " '1429': 'Japan',\n",
       " '1428': 'Japan',\n",
       " '1430': None,\n",
       " '1432': 'Vietnam',\n",
       " '1431': 'Vietnam',\n",
       " '1433': 'Vietnam',\n",
       " '1434': 'Myanmar',\n",
       " '1435': 'Myanmar',\n",
       " '1436': None,\n",
       " '1437': 'Japan',\n",
       " '1438': 'Cambodia',\n",
       " '1449': 'Cambodia',\n",
       " '1441': 'Cambodia',\n",
       " '1439': 'Cambodia',\n",
       " '1442': 'Cambodia',\n",
       " '1440': 'Cambodia',\n",
       " '1403': 'Vietnam'}"
      ]
     },
     "execution_count": 16,
     "metadata": {},
     "output_type": "execute_result"
    }
   ],
   "source": [
    "collections_country"
   ]
  },
  {
   "cell_type": "code",
   "execution_count": null,
   "metadata": {},
   "outputs": [],
   "source": []
  }
 ],
 "metadata": {
  "kernelspec": {
   "display_name": "Python 3",
   "language": "python",
   "name": "python3"
  },
  "language_info": {
   "codemirror_mode": {
    "name": "ipython",
    "version": 3
   },
   "file_extension": ".py",
   "mimetype": "text/x-python",
   "name": "python",
   "nbconvert_exporter": "python",
   "pygments_lexer": "ipython3",
   "version": "3.8.3"
  }
 },
 "nbformat": 4,
 "nbformat_minor": 4
}
