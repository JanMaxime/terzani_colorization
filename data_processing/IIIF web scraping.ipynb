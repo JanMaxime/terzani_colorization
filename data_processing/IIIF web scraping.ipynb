{
 "cells": [
  {
   "cell_type": "code",
   "execution_count": 1,
   "metadata": {},
   "outputs": [],
   "source": [
    "import json\n",
    "import pandas as pd\n",
    "import requests\n",
    "from bs4 import BeautifulSoup\n",
    "import numpy as np\n",
    "import urllib.request, json\n",
    "import cv2\n",
    "import matplotlib.pyplot as plt\n",
    "import matplotlib.image as mpimg\n",
    "import pickle\n",
    "from tqdm import tqdm"
   ]
  },
  {
   "cell_type": "markdown",
   "metadata": {},
   "source": [
    "Generic class to store an image and its IIIF representation"
   ]
  },
  {
   "cell_type": "code",
   "execution_count": 2,
   "metadata": {},
   "outputs": [],
   "source": [
    "class Terzani_Photo(object):\n",
    "    def __init__(self, iiif, photo):\n",
    "        self.iiif = iiif\n",
    "        self.photo = photo\n",
    "        \n",
    "    def get_photo_link(self):\n",
    "        return self.iiif[\"images\"][0][\"resource\"][\"@id\"]"
   ]
  },
  {
   "cell_type": "markdown",
   "metadata": {},
   "source": [
    "First we need to know all the collections for the Terzani archive. For this we scrape the HTML content from the Fondo Tiziano Terzani (collection 1352). We store the collections number in the ```collections``` list. We just need to discard collections 1353, 1360 and 1450 which are collections of collections"
   ]
  },
  {
   "cell_type": "code",
   "execution_count": 3,
   "metadata": {},
   "outputs": [
    {
     "data": {
      "text/plain": [
       "['1460', '1465', '1451', '1452', '1453']"
      ]
     },
     "execution_count": 3,
     "metadata": {},
     "output_type": "execute_result"
    }
   ],
   "source": [
    "r = requests.get('http://dl.cini.it/collections/show/1353') # /ip: Returns the requester's IP Address.\n",
    "soup = BeautifulSoup(r.text, \"html.parser\")\n",
    "collections = []\n",
    "unsupported_collections = ['1352', '1360', '1450']\n",
    "for a in soup.find_all(\"a\", href=True):\n",
    "    link = a['href']\n",
    "    if link.startswith(\"/collections/show/\") and link[-4:] not in unsupported_collections:\n",
    "        collections.append(link[-4:])\n",
    "    \n",
    "#Preview\n",
    "collections[:5]"
   ]
  },
  {
   "cell_type": "markdown",
   "metadata": {},
   "source": [
    "Now we can read the manifest of every collection. For every entry of the manifest, we only keep it if it is the recto of a photo\n",
    "\n",
    "We check if an picture is color or black and white and store them seperately."
   ]
  },
  {
   "cell_type": "code",
   "execution_count": 4,
   "metadata": {},
   "outputs": [
    {
     "name": "stderr",
     "output_type": "stream",
     "text": [
      "100%|██████████| 59/59 [3:57:59<00:00, 242.02s/it]  \n"
     ]
    }
   ],
   "source": [
    "terzani_recto_iiif_color = list() #to store color photos in Terzani photo collection\n",
    "terzani_recto_iiif_bw = list() #to store black and white photos in Terzani photo collection\n",
    "\n",
    "threshold_color = 0.05\n",
    "\n",
    "iiif_format = \"/full/max/0/default.jpg\"\n",
    "\n",
    "for collection in tqdm(collections):\n",
    "    url = \"http://dl.cini.it/oa/collections/\"+collection+\"/manifest.json\"\n",
    "\n",
    "    response = urllib.request.urlopen(url)\n",
    "\n",
    "    data = json.loads(response.read())\n",
    "\n",
    "    for entry in data[\"sequences\"][0][\"canvases\"]:\n",
    "        if entry[\"label\"] == None:\n",
    "            continue\n",
    "        if  entry[\"label\"].lower().endswith(\"recto\"):\n",
    "            photo_link = entry[\"images\"][0][\"resource\"][\"service\"][\"@id\"] + iiif_format\n",
    "            photo = np.asarray(bytearray(urllib.request.urlopen(photo_link).read()), dtype=\"uint8\")\n",
    "            photo = cv2.imdecode(photo, cv2.IMREAD_COLOR)\n",
    "            b,g,r = cv2.split(photo)\n",
    "            isize = r.size\n",
    "            rg = np.abs(r-g)\n",
    "            rb = np.abs(r-b)\n",
    "            gb = np.abs(g-b)\n",
    "            diff =np.sum(rg+rb+gb)\n",
    "            diff = diff / isize / (255 * 3)\n",
    "            if diff > threshold_color: # As gray values have r-g = 0 and r-b = 0 and g-b = 0 diff will be near 0 for grayscale images and > 0 for colored images.\n",
    "                terzani_recto_iiif_color.append(Terzani_Photo(entry, None))\n",
    "            else:\n",
    "                terzani_recto_iiif_bw.append(Terzani_Photo(entry, None))"
   ]
  },
  {
   "cell_type": "code",
   "execution_count": 5,
   "metadata": {},
   "outputs": [
    {
     "data": {
      "text/plain": [
       "5030"
      ]
     },
     "execution_count": 5,
     "metadata": {},
     "output_type": "execute_result"
    }
   ],
   "source": [
    "len(terzani_recto_iiif_color)"
   ]
  },
  {
   "cell_type": "code",
   "execution_count": 6,
   "metadata": {},
   "outputs": [
    {
     "data": {
      "text/plain": [
       "3494"
      ]
     },
     "execution_count": 6,
     "metadata": {},
     "output_type": "execute_result"
    }
   ],
   "source": [
    "len(terzani_recto_iiif_bw)"
   ]
  },
  {
   "cell_type": "markdown",
   "metadata": {},
   "source": [
    "Let's now dump this list in a pickle file"
   ]
  },
  {
   "cell_type": "code",
   "execution_count": 7,
   "metadata": {},
   "outputs": [],
   "source": [
    "with open('terzani_recto_iiif_color.pickle', 'wb') as file:\n",
    "    pickle.dump(terzani_recto_iiif_color, file)"
   ]
  },
  {
   "cell_type": "code",
   "execution_count": 8,
   "metadata": {},
   "outputs": [],
   "source": [
    "with open('terzani_recto_iiif_bw.pickle', 'wb') as file:\n",
    "    pickle.dump(terzani_recto_iiif_bw, file)"
   ]
  },
  {
   "cell_type": "code",
   "execution_count": null,
   "metadata": {},
   "outputs": [],
   "source": []
  }
 ],
 "metadata": {
  "kernelspec": {
   "display_name": "Python 3",
   "language": "python",
   "name": "python3"
  },
  "language_info": {
   "codemirror_mode": {
    "name": "ipython",
    "version": 3
   },
   "file_extension": ".py",
   "mimetype": "text/x-python",
   "name": "python",
   "nbconvert_exporter": "python",
   "pygments_lexer": "ipython3",
   "version": "3.8.3"
  }
 },
 "nbformat": 4,
 "nbformat_minor": 4
}
