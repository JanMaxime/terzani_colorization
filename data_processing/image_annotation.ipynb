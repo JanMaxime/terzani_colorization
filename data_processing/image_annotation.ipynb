{
 "cells": [
  {
   "cell_type": "markdown",
   "metadata": {},
   "source": [
    "# Image annotation script"
   ]
  },
  {
   "cell_type": "markdown",
   "metadata": {},
   "source": [
    "This notebook will serve as a prototype to create a script to annotate all the images of Terzani collection"
   ]
  },
  {
   "cell_type": "markdown",
   "metadata": {},
   "source": [
    "## Installing the client library\n",
    "\n",
    "If the Google cloud vision library is not installed already, install it.\n",
    "\n",
    "If you have python environment use\n",
    "\n",
    "```shell\n",
    "pip install --upgrade google-cloud-vision\n",
    "```\n",
    "\n",
    "If you have conda environment use\n",
    "\n",
    "```shell\n",
    "conda install -c conda-forge google-cloud-vision\n",
    "```"
   ]
  },
  {
   "cell_type": "markdown",
   "metadata": {},
   "source": [
    "## Installing other libraries\n",
    "\n",
    "Install `dotenv` to get the environment variables\n",
    "\n",
    "If you have python environment use\n",
    "\n",
    "```shell\n",
    "pip install python-dotenv\n",
    "```\n",
    "\n",
    "If you have conda environment use\n",
    "\n",
    "```shell\n",
    "conda install -c conda-forge python-dotenvn\n",
    "```\n",
    "\n",
    "pip install python-dotenv"
   ]
  },
  {
   "cell_type": "markdown",
   "metadata": {},
   "source": [
    "## Import the libraries"
   ]
  },
  {
   "cell_type": "code",
   "execution_count": 1,
   "metadata": {},
   "outputs": [],
   "source": [
    "## Import the standard libraries\n",
    "import os, io, pickle, random, json\n",
    "## Import Vison API related libraries\n",
    "from google.cloud import vision\n",
    "from google.cloud.vision import types\n",
    "## Import dotenv library to get environment variables\n",
    "from dotenv import load_dotenv\n",
    "# Import urllib to read images\n",
    "import urllib.request as ur\n",
    "# Import pymango to inset data into mangodb\n",
    "import pymongo\n",
    "from tqdm import tqdm"
   ]
  },
  {
   "cell_type": "markdown",
   "metadata": {},
   "source": [
    "## Setup the service account credentials to use the API"
   ]
  },
  {
   "cell_type": "code",
   "execution_count": 2,
   "metadata": {},
   "outputs": [],
   "source": [
    "load_dotenv()\n",
    "\n",
    "GOOGLE_APPLICATION_CREDENTIALS = os.getenv('GOOGLE_APPLICATION_CREDENTIALS')\n",
    "os.environ['GOOGLE_APPLICATION_CREDENTIALS'] = GOOGLE_APPLICATION_CREDENTIALS\n",
    "\n",
    "MANGO_CLIENT_URI = os.getenv('MONGO_URI')\n",
    "os.environ['MANGO_CLIENT_URI'] = MANGO_CLIENT_URI"
   ]
  },
  {
   "cell_type": "markdown",
   "metadata": {},
   "source": [
    "## Creation of Client to access the API"
   ]
  },
  {
   "cell_type": "code",
   "execution_count": 3,
   "metadata": {},
   "outputs": [],
   "source": [
    "client = vision.ImageAnnotatorClient()"
   ]
  },
  {
   "cell_type": "markdown",
   "metadata": {},
   "source": [
    "## Image selection\n",
    "\n",
    "As this is a prototyping script we shall select 10 images randomly each from the color and monochrome photos (using the already created pickle files)."
   ]
  },
  {
   "cell_type": "markdown",
   "metadata": {},
   "source": [
    "Generic class to store an image and its IIIF representation"
   ]
  },
  {
   "cell_type": "code",
   "execution_count": 4,
   "metadata": {},
   "outputs": [],
   "source": [
    "class Terzani_Photo(object):\n",
    "    def __init__(self, iiif, photo):\n",
    "        self.iiif = iiif\n",
    "        self.photo = photo\n",
    "        \n",
    "    def get_photo_link(self):\n",
    "        return self.iiif[\"images\"][0][\"resource\"][\"@id\"]"
   ]
  },
  {
   "cell_type": "code",
   "execution_count": 5,
   "metadata": {},
   "outputs": [],
   "source": [
    "number_of_images = 10\n",
    "\n",
    "# loading the color photos\n",
    "color_photos = pickle.load(open(\"terzani_recto_iiif_color.pickle\", \"rb\" ))\n",
    "# randomly selecting 10 images\n",
    "color_photos = random.sample(color_photos, number_of_images)\n",
    "\n",
    "# loading the monochrome photos\n",
    "bw_photos = pickle.load(open(\"terzani_recto_iiif_color.pickle\", \"rb\" ))\n",
    "# randomly selecting 10 images\n",
    "bw_photos = random.sample(bw_photos, number_of_images)\n",
    "\n",
    "all_photos = color_photos + bw_photos"
   ]
  },
  {
   "cell_type": "markdown",
   "metadata": {},
   "source": [
    "## Calling the Vision API"
   ]
  },
  {
   "cell_type": "code",
   "execution_count": 6,
   "metadata": {},
   "outputs": [
    {
     "name": "stderr",
     "output_type": "stream",
     "text": [
      "100%|██████████████████████████████████████████████████████████████████████████████████| 20/20 [01:40<00:00,  5.01s/it]\n"
     ]
    }
   ],
   "source": [
    "annotated_images = dict() # We store information about each image in a dictionary to later transform into json.\n",
    "failed_images = dict() # We store information about images that are failed to be annotated by google api.\n",
    "for img in tqdm(all_photos):\n",
    "\n",
    "    # if the image is already not present in the either annotated and failed dictionaries\n",
    "    if img.iiif[\"label\"] not in annotated_images and img.iiif[\"label\"] not in failed_images:\n",
    "\n",
    "        img_lbl = img.iiif[\"label\"]\n",
    "                \n",
    "        image_data = ur.urlopen(img.get_photo_link()).read()\n",
    "        image = types.Image(content=image_data)\n",
    "        \n",
    "        # call the goole vision api to get the annotations of various types\n",
    "        response = client.annotate_image({\n",
    "            'image': image,\n",
    "            'features': [{'type': vision.enums.Feature.Type.LANDMARK_DETECTION}, \n",
    "                         {'type': vision.enums.Feature.Type.LOGO_DETECTION},\n",
    "                         {'type': vision.enums.Feature.Type.LABEL_DETECTION},\n",
    "                         {'type': vision.enums.Feature.Type.TEXT_DETECTION},\n",
    "                         {'type': vision.enums.Feature.Type.OBJECT_LOCALIZATION},\n",
    "                         {'type': vision.enums.Feature.Type.WEB_DETECTION}],})\n",
    "        \n",
    "        # check if there is any error returned by the api\n",
    "        if response.error.code != 0:\n",
    "            failed_images[img_lbl] = {}\n",
    "            failed_images[img_lbl][\"error\"] = [response.error.code, response.error.message]\n",
    "        else:\n",
    "            annotated_images[img_lbl] = {}\n",
    "        \n",
    "            # store the iiif description\n",
    "            annotated_images[img_lbl][\"iiif\"] = img.iiif\n",
    "            \n",
    "            tags = list() # A list to store tags for the image originating from label and web detection\n",
    "\n",
    "            # We store the labels and webentities in a list called tags\n",
    "\n",
    "            tags.extend([lbl.description for lbl in response.label_annotations])\n",
    "            tags.extend([weben.description for weben in response.web_detection.web_entities])\n",
    "\n",
    "            # store the generated tags into the dictionary.\n",
    "            # The list is made into set and converedted back into to list to eliminate any duplicate tags \n",
    "            annotated_images[img_lbl][\"tags\"] = list(set(tags))\n",
    "\n",
    "            obj_boxes = {} # this dictionary will store the information of annotations along with bounding boxes.\n",
    "            # The key will the the name to identify the annotation and the value be a list of list of tuples with coordinates\n",
    "            # for the bounding box. It would be a list of list to store coordinates for different boxes for same tag\n",
    "\n",
    "            for lndmk in response.landmark_annotations:\n",
    "                if lndmk.description not in obj_boxes:\n",
    "                    obj_boxes[lndmk.description] = list()\n",
    "                ulx, uly, box_width, box_height = None, None, None, None\n",
    "                ulx, uly = lndmk.bounding_poly.vertices[3].x, lndmk.bounding_poly.vertices[3].y\n",
    "                box_width = abs(lndmk.bounding_poly.vertices[2].x - lndmk.bounding_poly.vertices[3].x)\n",
    "                box_height = abs(lndmk.bounding_poly.vertices[2].y - lndmk.bounding_poly.vertices[1].y)\n",
    "                if (ulx and uly and box_width and box_height) is not None:\n",
    "                    vert = [ulx, uly, box_width, box_height] \n",
    "                    obj_boxes[lndmk.description].append(vert)    \n",
    "\n",
    "            for lgo in response.logo_annotations:\n",
    "                if lgo.description not in obj_boxes:\n",
    "                    obj_boxes[lgo.description] = list()\n",
    "                ulx, uly, box_width, box_height = None, None, None, None\n",
    "                ulx, uly = lgo.bounding_poly.vertices[3].x, lgo.bounding_poly.vertices[3].y\n",
    "                box_width = abs(lgo.bounding_poly.vertices[2].x - lgo.bounding_poly.vertices[3].x)\n",
    "                box_height = abs(lgo.bounding_poly.vertices[2].y - lgo.bounding_poly.vertices[1].y)\n",
    "                if (ulx and uly and box_width and box_height) is not None:\n",
    "                    vert = [ulx, uly, box_width, box_height]\n",
    "                    obj_boxes[lgo.description].append(vert)\n",
    "\n",
    "            if len(response.localized_object_annotations) > 0:\n",
    "                img_width, img_height = img.iiif[\"width\"], img.iiif[\"height\"]\n",
    "            for lobj in response.localized_object_annotations:\n",
    "                if lobj.name not in obj_boxes:\n",
    "                    obj_boxes[lobj.name] = list()\n",
    "                ulx, uly, box_width, box_height = None, None, None, None\n",
    "                ulx, uly = lobj.bounding_poly.normalized_vertices[3].x * img_width, lobj.bounding_poly.normalized_vertices[3].y * img_height\n",
    "                box_width = abs(lobj.bounding_poly.normalized_vertices[2].x - lobj.bounding_poly.normalized_vertices[3].x) * img_width\n",
    "                box_height = abs(lobj.bounding_poly.normalized_vertices[2].y - lobj.bounding_poly.normalized_vertices[1].y) * img_height\n",
    "                if (ulx and uly and box_width and box_height) is not None:\n",
    "                    vert = [ulx, uly, box_width, box_height]\n",
    "                    obj_boxes[lobj.name].append(vert)\n",
    "\n",
    "            for txt in response.text_annotations:\n",
    "                modified_text = txt.description.replace(\".\", \"_\")\n",
    "                if modified_text not in obj_boxes:\n",
    "                    obj_boxes[modified_text] = list()\n",
    "                ulx, uly, box_width, box_height = None, None, None, None\n",
    "                ulx, uly = txt.bounding_poly.vertices[3].x, txt.bounding_poly.vertices[3].y\n",
    "                box_width = abs(txt.bounding_poly.vertices[2].x - txt.bounding_poly.vertices[3].x)\n",
    "                box_height = abs(txt.bounding_poly.vertices[2].y - txt.bounding_poly.vertices[1].y)\n",
    "                if (ulx and uly and box_width and box_height) is not None:\n",
    "                    vert = [ulx, uly, box_width, box_height]\n",
    "                    obj_boxes[modified_text].append(vert)\n",
    "            # store the generated object boxes into the dictionary.\n",
    "            annotated_images[img_lbl][\"obj_boxes\"] = obj_boxes"
   ]
  },
  {
   "cell_type": "markdown",
   "metadata": {},
   "source": [
    "## Saving the dictionaries to JSON file"
   ]
  },
  {
   "cell_type": "code",
   "execution_count": 7,
   "metadata": {},
   "outputs": [],
   "source": [
    "with open('annotated_images.json', 'w') as fp:\n",
    "    json.dump(annotated_images, fp, indent=4)\n",
    "\n",
    "if len(failed_images) > 0:\n",
    "    print(\"There are failed images\")\n",
    "    with open('failed_images.json', 'w') as fp:\n",
    "        json.dump(failed_images, fp, indent=4)"
   ]
  },
  {
   "cell_type": "markdown",
   "metadata": {},
   "source": [
    "## Inserting the data into Mangodb"
   ]
  },
  {
   "cell_type": "code",
   "execution_count": 8,
   "metadata": {},
   "outputs": [],
   "source": [
    "# creating a client to work with mango db\n",
    "mangoclient = pymongo.MongoClient(MANGO_CLIENT_URI)"
   ]
  },
  {
   "cell_type": "code",
   "execution_count": 10,
   "metadata": {},
   "outputs": [
    {
     "name": "stdout",
     "output_type": "stream",
     "text": [
      "{'iiif': {'@id': 'http://dl.cini.it/oa/items/66816/canvas.json', 'label': 'T4_115_recto', '@type': 'sc:Canvas', 'width': 2838, 'height': 3887, 'images': [{'@id': 'http://dl.cini.it/oa/files/65776/anno.json', 'motivation': 'sc:painting', '@type': 'oa:Annotation', 'resource': {'@id': 'http://dl.cini.it/files/original/da866fb0287bf4b3eb6aa9f4d80ef427.jpg', '@type': 'dctypes:Image', 'format': 'image/jpeg', 'width': 2838, 'height': 3887, 'service': {'@id': 'http://dl.cini.it:8080/digilib/Scaler/IIIF/da866fb0287bf4b3eb6aa9f4d80ef427.jpg', '@context': 'http://iiif.io/api/image/2/context.json', 'profile': 'http://iiif.io/api/image/2/level2.json'}}, 'on': 'http://dl.cini.it/oa/items/66816/canvas.json'}], 'metadata': [{'label': 'Identifier', 'value': '97eb09a1-5410-487b-adb6-f8c704097391'}, {'label': 'notes', 'value': 'T4_115_recto'}, {'label': 'originalFileName', 'value': 'T4_115_recto.jpg'}, {'label': 'filename', 'value': '229.jpg'}, {'label': 'fileMD5', 'value': '16344d3a2ae7b1ce10ee7c707672ec38'}], 'otherContent': [{'@id': 'http://dl.cini.it/oa/items/66816/annolist.json', '@type': 'sc:AnnotationList'}]}, 'tags': ['Still life photography', 'Monochrome photography', 'Snapshot', 'Ancient history', 'Black-and-white', 'Photograph', 'Black and white', 'Room', 'Monochrome', 'Still life', 'Photography', 'Sculpture', 'Visual arts', 'Work of art', 'Stock photography'], 'obj_boxes': {'Person': [[1236.1621275544167, 2737.536896467209, 302.6056142449379, 942.0545780956745], [939.795990049839, 2596.8671650886536, 272.7818779349327, 499.12566035985947], [617.8856863081455, 2012.3773463368416, 242.97983613610268, 637.0871303379536]]}}\n",
      "{'iiif': {'@id': 'http://dl.cini.it/oa/items/66640/canvas.json', 'label': 'T4_27_recto', '@type': 'sc:Canvas', 'width': 3543, 'height': 2359, 'images': [{'@id': 'http://dl.cini.it/oa/files/65600/anno.json', 'motivation': 'sc:painting', '@type': 'oa:Annotation', 'resource': {'@id': 'http://dl.cini.it/files/original/376edb4401d02c4248c5037c631eca59.jpg', '@type': 'dctypes:Image', 'format': 'image/jpeg', 'width': 3543, 'height': 2359, 'service': {'@id': 'http://dl.cini.it:8080/digilib/Scaler/IIIF/376edb4401d02c4248c5037c631eca59.jpg', '@context': 'http://iiif.io/api/image/2/context.json', 'profile': 'http://iiif.io/api/image/2/level2.json'}}, 'on': 'http://dl.cini.it/oa/items/66640/canvas.json'}], 'metadata': [{'label': 'Identifier', 'value': '4ed5fa24-51b6-479b-ba22-32e47854b378'}, {'label': 'notes', 'value': 'T4_27_recto'}, {'label': 'originalFileName', 'value': 'T4_27_recto.jpg'}, {'label': 'filename', 'value': '53.jpg'}, {'label': 'fileMD5', 'value': '474e5dfad75c2a23c074c2a27e03261e'}], 'otherContent': [{'@id': 'http://dl.cini.it/oa/items/66640/annolist.json', '@type': 'sc:AnnotationList'}]}, 'tags': ['Text', 'Picture frame', 'Meter', 'Photographic paper', 'Product', 'Snapshot', 'Design', 'Black-and-white', 'Photograph', 'Room', 'Product design', 'Monochrome', 'Square', 'Architecture', 'Photography', 'Image', 'Font'], 'obj_boxes': {'Building': [[768.8330860286951, 1292.9999458789825, 1705.7614285200834, 807.2517593353987]], 'सुन\\nस्नना का प्रतीक\\nसुलभकम्पलेक्स\\n': [[1302, 713, 581, 222]], 'सुन': [[1828, 544, 55, 43]], 'स्नना': [[1325, 671, 54, 17]], 'का': [[1383, 673, 18, 17]], 'प्रतीक': [[1405, 676, 51, 24]], 'सुलभकम्पलेक्स': [[1302, 713, 173, 35]]}}\n",
      "{'iiif': {'@id': 'http://dl.cini.it/oa/items/74494/canvas.json', 'label': 'T49_83_recto', '@type': 'sc:Canvas', 'width': 3860, 'height': 3109, 'images': [{'@id': 'http://dl.cini.it/oa/files/73454/anno.json', 'motivation': 'sc:painting', '@type': 'oa:Annotation', 'resource': {'@id': 'http://dl.cini.it/files/original/2fd0a7ba80705d813bce535b22fc7f10.jpg', '@type': 'dctypes:Image', 'format': 'image/jpeg', 'width': 3860, 'height': 3109, 'service': {'@id': 'http://dl.cini.it:8080/digilib/Scaler/IIIF/2fd0a7ba80705d813bce535b22fc7f10.jpg', '@context': 'http://iiif.io/api/image/2/context.json', 'profile': 'http://iiif.io/api/image/2/level2.json'}}, 'on': 'http://dl.cini.it/oa/items/74494/canvas.json'}], 'metadata': [{'label': 'Identifier', 'value': 'e7dd621f-97e2-4558-b123-edefec5089fe'}, {'label': 'notes', 'value': 'T49_83_recto'}, {'label': 'originalFileName', 'value': 'T49_83_recto.jpg'}, {'label': 'filename', 'value': '165.jpg'}, {'label': 'fileMD5', 'value': 'fc560ecb956e98163be6986d74f97962'}], 'otherContent': [{'@id': 'http://dl.cini.it/oa/items/74494/annolist.json', '@type': 'sc:AnnotationList'}]}, 'tags': ['Monochrome photography', 'Meter', 'Snapshot', 'Black-and-white', 'Photograph', 'Room', 'Monochrome', 'Photography', 'Stock photography'], 'obj_boxes': {'Person': [[2559.6762216091156, 2748.234446465969, 855.5653357505798, 843.4102322459221], [1966.6484761238098, 2047.1086573004723, 440.2871859073639, 491.526997923851], [1725.1748442649841, 2739.808733165264, 876.4884889125824, 787.749712228775], [312.59900256991386, 2740.438790023327, 906.5410043299198, 978.3528451323509], [2429.3080508708954, 2354.8999567627907, 756.1777698993683, 745.5846394896507]], 'Clothing': [[318.40460181236267, 2710.8522465229034, 880.5351442098618, 723.8306292891502], [1702.9493576288223, 2736.059894859791, 884.1877979040146, 351.36214023828506], [2565.6556129455566, 2732.039020240307, 854.6105289459229, 559.1013371944427], [2462.706962823868, 2271.496550798416, 680.0798976421356, 400.2452868819237], [1963.3604896068573, 2041.4848439097404, 440.0416970252991, 423.68914663791656]]}}\n",
      "{'iiif': {'@id': 'http://dl.cini.it/oa/items/63354/canvas.json', 'label': 'F20_66_recto', '@type': 'sc:Canvas', 'width': 1645, 'height': 2373, 'images': [{'@id': 'http://dl.cini.it/oa/files/62314/anno.json', 'motivation': 'sc:painting', '@type': 'oa:Annotation', 'resource': {'@id': 'http://dl.cini.it/files/original/388fc4875bbeb0daffdf9430dd43feb0.jpg', '@type': 'dctypes:Image', 'format': 'image/jpeg', 'width': 1645, 'height': 2373, 'service': {'@id': 'http://dl.cini.it:8080/digilib/Scaler/IIIF/388fc4875bbeb0daffdf9430dd43feb0.jpg', '@context': 'http://iiif.io/api/image/2/context.json', 'profile': 'http://iiif.io/api/image/2/level2.json'}}, 'on': 'http://dl.cini.it/oa/items/63354/canvas.json'}], 'metadata': [{'label': 'Identifier', 'value': '1bfffe2b-27df-4ac9-9827-d2086d9faa33'}, {'label': 'notes', 'value': 'F20_66_recto'}, {'label': 'originalFileName', 'value': 'F20_66_recto.jpg'}, {'label': 'filename', 'value': '131.jpg'}, {'label': 'fileMD5', 'value': 'e7f70f394d2059276ebb859534f47adc'}], 'otherContent': [{'@id': 'http://dl.cini.it/oa/items/63354/annolist.json', '@type': 'sc:AnnotationList'}]}, 'tags': ['Recreation', \"Kolej Tuanku Ja'afar (KTJ)\", 'Morning', 'Water', 'Winter', 'Square', 'Stock photography'], 'obj_boxes': {'Person': [[644.9503870308399, 1244.4881767630577, 130.08951783180237, 290.67305740714073], [167.55888160318136, 1660.0063435435295, 353.6780086532235, 413.7526899576187], [828.9694133400917, 1811.540463924408, 736.7269587516785, 789.8205402195454], [797.7784009277821, 1224.900040268898, 113.29356536269188, 298.18255734443665]], 'Food': [[577.7257885038853, 1724.9210677742958, 403.8476933538914, 145.31464058160782], [66.77912224084139, 1704.7801766395569, 300.49644734710455, 148.12791842222214]], 'Clothing': [[180.28695058077574, 1625.5562075972557, 283.9028448238969, 261.37699073553085]]}}\n",
      "{'iiif': {'@id': 'http://dl.cini.it/oa/items/77996/canvas.json', 'label': 'T20_43_recto', '@type': 'sc:Canvas', 'width': 2100, 'height': 1437, 'images': [{'@id': 'http://dl.cini.it/oa/files/76956/anno.json', 'motivation': 'sc:painting', '@type': 'oa:Annotation', 'resource': {'@id': 'http://dl.cini.it/files/original/3604e4cd32094d221d95eb923c6f9b3a.jpg', '@type': 'dctypes:Image', 'format': 'image/jpeg', 'width': 2100, 'height': 1437, 'service': {'@id': 'http://dl.cini.it:8080/digilib/Scaler/IIIF/3604e4cd32094d221d95eb923c6f9b3a.jpg', '@context': 'http://iiif.io/api/image/2/context.json', 'profile': 'http://iiif.io/api/image/2/level2.json'}}, 'on': 'http://dl.cini.it/oa/items/77996/canvas.json'}], 'metadata': [{'label': 'Identifier', 'value': '06f195d3-ad9d-4c7e-803d-16061d32c525'}, {'label': 'notes', 'value': 'T20_43_recto'}, {'label': 'originalFileName', 'value': 'T20_43_recto.jpg'}, {'label': 'filename', 'value': '85.jpg'}, {'label': 'fileMD5', 'value': '66332a7ad75f3e07b7ec5b7d80d03bbf'}], 'otherContent': [{'@id': 'http://dl.cini.it/oa/items/77996/annolist.json', '@type': 'sc:AnnotationList'}]}, 'tags': ['Art', 'Fun', 'Adaptation', 'Photography'], 'obj_boxes': {'Person': [[68.3856189250946, 1183.5177311897278, 1054.9530923366547, 757.9835869967937], [1131.1928629875183, 1384.0888971090317, 784.8224937915802, 842.6956035196781]], 'Kissing\\n': [[784, 1263, 84, 34]], 'Kissing': [[784, 1248, 80, 19]]}}\n",
      "{'iiif': {'@id': 'http://dl.cini.it/oa/items/76560/canvas.json', 'label': 'F22_134_recto', '@type': 'sc:Canvas', 'width': 3691, 'height': 2952, 'images': [{'@id': 'http://dl.cini.it/oa/files/75520/anno.json', 'motivation': 'sc:painting', '@type': 'oa:Annotation', 'resource': {'@id': 'http://dl.cini.it/files/original/c4cfda718c005c39be525680005212a8.jpg', '@type': 'dctypes:Image', 'format': 'image/jpeg', 'width': 3691, 'height': 2952, 'service': {'@id': 'http://dl.cini.it:8080/digilib/Scaler/IIIF/c4cfda718c005c39be525680005212a8.jpg', '@context': 'http://iiif.io/api/image/2/context.json', 'profile': 'http://iiif.io/api/image/2/level2.json'}}, 'on': 'http://dl.cini.it/oa/items/76560/canvas.json'}], 'metadata': [{'label': 'Identifier', 'value': 'b22828b1-7227-4a90-b312-8079e2edbfec'}, {'label': 'notes', 'value': 'F22_134_recto'}, {'label': 'originalFileName', 'value': 'F22_134_recto.jpg'}, {'label': 'filename', 'value': '268.jpg'}, {'label': 'fileMD5', 'value': 'dc23b70c2d486e63360746e37bc68422'}], 'otherContent': [{'@id': 'http://dl.cini.it/oa/items/76560/annolist.json', '@type': 'sc:AnnotationList'}]}, 'tags': ['Picture frame', 'Monochrome photography', 'Photographic paper', 'Meter', 'Snapshot', 'Design', 'Black-and-white', 'Paper', 'Photograph', 'Room', 'Monochrome', 'Product design', 'Photography', 'Stock photography'], 'obj_boxes': {'Person': [[815.4223621040583, 2039.8009872436523, 911.9749685674906, 1035.3685140609741]], 'Clothing': [[824.2102918177843, 2006.9233059883118, 894.5600396841764, 943.9534986019135]], 'Picture frame': [[80.54229982942343, 2752.322829723358, 3375.7721266523004, 2571.031540006399]], 'Shirt': [[823.0544079095125, 1995.8746948242188, 833.3734328001738, 840.1604597568512]]}}\n",
      "{'iiif': {'@id': 'http://dl.cini.it/oa/items/71848/canvas.json', 'label': 'T34_163_recto', '@type': 'sc:Canvas', 'width': 3116, 'height': 3842, 'images': [{'@id': 'http://dl.cini.it/oa/files/70808/anno.json', 'motivation': 'sc:painting', '@type': 'oa:Annotation', 'resource': {'@id': 'http://dl.cini.it/files/original/5e57fa83f8d8ad5343cfdb7486f8b7b8.jpg', '@type': 'dctypes:Image', 'format': 'image/jpeg', 'width': 3116, 'height': 3842, 'service': {'@id': 'http://dl.cini.it:8080/digilib/Scaler/IIIF/5e57fa83f8d8ad5343cfdb7486f8b7b8.jpg', '@context': 'http://iiif.io/api/image/2/context.json', 'profile': 'http://iiif.io/api/image/2/level2.json'}}, 'on': 'http://dl.cini.it/oa/items/71848/canvas.json'}], 'metadata': [{'label': 'Identifier', 'value': 'caffb46d-d623-4ae8-acf5-9017a54aff08'}, {'label': 'notes', 'value': 'T34_163_recto'}, {'label': 'originalFileName', 'value': 'T34_163_recto.jpg'}, {'label': 'filename', 'value': '325.jpg'}, {'label': 'fileMD5', 'value': 'db1642641029f729415383705d68cbc5'}], 'otherContent': [{'@id': 'http://dl.cini.it/oa/items/71848/annolist.json', '@type': 'sc:AnnotationList'}]}, 'tags': ['Battleship', 'Snapshot', 'Black-and-white', 'Heavy cruiser', 'Submarine chaser', 'Naval ship', 'Submarine', 'Mikasa Park', 'Vehicle', 'Monochrome', 'Battlecruiser', 'Destroyer', 'Watercraft', 'Ship', 'Stock photography'], 'obj_boxes': {'Person': [[951.859253525734, 2846.827638745308, 394.2060707807541, 1036.5189579725266], [1367.7795362472534, 2791.5261763334274, 312.3011977672577, 1019.0215606093407]], 'Boat': [[235.23676979541779, 1973.1664381027222, 2321.7261875867844, 1867.650091651827]], 'WE AA\\n': [[1141, 2684, 50, 134]], 'WE': [[1142, 2552, 4, 2]], 'AA': [[1146, 2634, 2, 2]]}}\n",
      "{'iiif': {'@id': 'http://dl.cini.it/oa/items/68484/canvas.json', 'label': 'T6_68_recto', '@type': 'sc:Canvas', 'width': 4589, 'height': 3662, 'images': [{'@id': 'http://dl.cini.it/oa/files/67444/anno.json', 'motivation': 'sc:painting', '@type': 'oa:Annotation', 'resource': {'@id': 'http://dl.cini.it/files/original/42cd80f80dc1a753f2675996c4bf043b.jpg', '@type': 'dctypes:Image', 'format': 'image/jpeg', 'width': 4589, 'height': 3662, 'service': {'@id': 'http://dl.cini.it:8080/digilib/Scaler/IIIF/42cd80f80dc1a753f2675996c4bf043b.jpg', '@context': 'http://iiif.io/api/image/2/context.json', 'profile': 'http://iiif.io/api/image/2/level2.json'}}, 'on': 'http://dl.cini.it/oa/items/68484/canvas.json'}], 'metadata': [{'label': 'Identifier', 'value': '0b5e0300-bb98-4e6e-a90d-bd5f8e955f54'}, {'label': 'notes', 'value': 'T6_68_recto'}, {'label': 'originalFileName', 'value': 'T6_68_recto.jpg'}, {'label': 'filename', 'value': '135.jpg'}, {'label': 'fileMD5', 'value': '5040fd0ebe78d9693847ca33b5099051'}], 'otherContent': [{'@id': 'http://dl.cini.it/oa/items/68484/annolist.json', '@type': 'sc:AnnotationList'}]}, 'tags': ['Meter', 'Photographic paper', 'Product', 'Snapshot', 'Design', 'Black-and-white', 'Furniture', 'Statistics', 'Drawing', 'Photograph', '/m/02csf', 'Room', 'Table M Lamp Restoration', 'Monochrome', 'Table', 'Product design', 'Photography'], 'obj_boxes': {'Person': [[1937.562481611967, 2561.64286506176, 557.8574734032154, 1168.3944378495216], [2307.9407801032066, 2254.144250869751, 441.94807970523834, 784.9488815665245]], 'Furniture': [[2681.3044750094414, 2873.3128794431686, 1240.9700303673744, 620.2458019256592], [896.2002350240946, 2724.7140325307846, 1051.2912300378084, 709.0939412117004]], 'Clothing': [[1969.1637280285358, 2401.618122816086, 475.4611341059208, 946.7766613960266]], 'Lighting': [[702.6316938847303, 1870.3167182207108, 406.33045007288456, 641.8731946349144]], 'Lamp': [[706.1459522694349, 1824.910532772541, 401.5360229611397, 614.1171548366547]], 'MA\\nSPIEGE\\nRA\\nNIN\\n': [[1402, 2495, 1774, 866]], 'MA': [[1402, 1676, 115, 47]], 'SPIEGE': [[3092, 1898, 84, 19]], 'RA': [[2663, 2009, 49, 42]], 'NIN': [[1831, 2495, 190, 129]]}}\n",
      "{'iiif': {'@id': 'http://dl.cini.it/oa/items/71278/canvas.json', 'label': 'T35_114_recto', '@type': 'sc:Canvas', 'width': 3108, 'height': 3843, 'images': [{'@id': 'http://dl.cini.it/oa/files/70238/anno.json', 'motivation': 'sc:painting', '@type': 'oa:Annotation', 'resource': {'@id': 'http://dl.cini.it/files/original/55402ee2ea6c3c2ad0e0a47cc06ae12b.jpg', '@type': 'dctypes:Image', 'format': 'image/jpeg', 'width': 3108, 'height': 3843, 'service': {'@id': 'http://dl.cini.it:8080/digilib/Scaler/IIIF/55402ee2ea6c3c2ad0e0a47cc06ae12b.jpg', '@context': 'http://iiif.io/api/image/2/context.json', 'profile': 'http://iiif.io/api/image/2/level2.json'}}, 'on': 'http://dl.cini.it/oa/items/71278/canvas.json'}], 'metadata': [{'label': 'Identifier', 'value': '8a0cf25b-ecca-4443-9f47-8a26c9d16387'}, {'label': 'notes', 'value': 'T35_114_recto'}, {'label': 'originalFileName', 'value': 'T35_114_recto.jpg'}, {'label': 'filename', 'value': '227.jpg'}, {'label': 'fileMD5', 'value': '97cce8e7b3bf297b1ac9964bf0716e8d'}], 'otherContent': [{'@id': 'http://dl.cini.it/oa/items/71278/annolist.json', '@type': 'sc:AnnotationList'}]}, 'tags': ['Monochrome photography', 'Snapshot', 'Black-and-white', 'Line', 'Photograph', 'Street', 'Stock photography', 'Black and white', 'Pedestrian crossing', 'Monochrome', 'Geometry', 'Photography', 'Leica M Monochrom', 'Pedestrian'], 'obj_boxes': {'Person': [[1380.4104219675064, 2802.820241868496, 272.8197730779648, 686.7923174500465], [1851.8226692676544, 2923.611252486706, 320.91349482536316, 796.0760082006454], [1562.4480121135712, 2648.5611796975136, 194.2685251235962, 604.4044700860977], [1375.440872311592, 2795.2545976638794, 271.8240476846695, 687.2366951107979], [1170.3218117952347, 2718.221730172634, 216.94985282421112, 594.2378422021866]], 'Building': [[501.66678446531296, 2165.992465853691, 729.8364710211754, 1548.276594221592], [1296.1795563697815, 2055.6076805591583, 316.45079255104065, 666.9514275491238], [2146.3250806331635, 2242.46505099535, 518.427992105484, 1459.5521848350763], [1687.3775553703308, 2212.560954093933, 445.76504731178284, 1142.146908134222]], 'Furniture': [[515.7933490276337, 3527.041069507599, 378.79218685626984, 368.2358391880989]], 'ストア\\nFied Chick\\n': [[1830, 1964, 620, 1480]], 'ス': [[1830, 585, 122, 101]], 'ト': [[1955, 595, 82, 100]], 'ア': [[2038, 603, 50, 101]], 'Fied': [[2284, 1964, 84, 55]], 'Chick': [[2371, 1959, 79, 55]]}}\n",
      "{'iiif': {'@id': 'http://dl.cini.it/oa/items/76714/canvas.json', 'label': 'F27_24_recto', '@type': 'sc:Canvas', 'width': 3857, 'height': 3120, 'images': [{'@id': 'http://dl.cini.it/oa/files/75674/anno.json', 'motivation': 'sc:painting', '@type': 'oa:Annotation', 'resource': {'@id': 'http://dl.cini.it/files/original/6949f0bb35ad920e65cb9b76fe3ca1fe.jpg', '@type': 'dctypes:Image', 'format': 'image/jpeg', 'width': 3857, 'height': 3120, 'service': {'@id': 'http://dl.cini.it:8080/digilib/Scaler/IIIF/6949f0bb35ad920e65cb9b76fe3ca1fe.jpg', '@context': 'http://iiif.io/api/image/2/context.json', 'profile': 'http://iiif.io/api/image/2/level2.json'}}, 'on': 'http://dl.cini.it/oa/items/76714/canvas.json'}], 'metadata': [{'label': 'Identifier', 'value': '017a6969-5e88-4072-ac0a-0e757dd1da57'}, {'label': 'notes', 'value': 'F27_24_recto'}, {'label': 'originalFileName', 'value': 'F27_24_recto.jpg'}, {'label': 'filename', 'value': '47.jpg'}, {'label': 'fileMD5', 'value': 'd9b386c3b820e509d4fee896c04ff6cc'}], 'otherContent': [{'@id': 'http://dl.cini.it/oa/items/76714/annolist.json', '@type': 'sc:AnnotationList'}]}, 'tags': ['Monochrome photography', \"Superdry Men's Monochrome T-Shirt Black Size: M\", 'Clothing', 'Snapshot', 'Black-and-white', 'Style', 'Behavior', 'Photograph', 'Human behavior', 'Monochrome', 'Photography', 'Human', 'Vintage clothing', 'Crowd', 'Event', 'Stock photography'], 'obj_boxes': {'Person': [[2509.341962337494, 2381.5302228927612, 551.0245659351349, 1070.7201147079468], [1583.0655776262283, 2555.044026374817, 831.2085475325584, 960.8936977386475], [2160.0225424170494, 1245.12943983078, 324.9755963087082, 487.8813707828522], [189.4922985099256, 2418.862624168396, 513.7079477794468, 1102.6003503799438], [2793.609111070633, 2533.0272674560547, 569.2959399819374, 1002.7261161804199], [2823.294317781925, 1591.5527486801147, 397.5672777891159, 602.8971362113953], [651.2052704691887, 2116.447262763977, 518.3384233415127, 917.4993467330933], [166.84971311688423, 1551.3535809516907, 358.0291687697172, 478.4720706939697], [1094.4705244600773, 1825.5376482009888, 427.76423102617264, 679.8543477058411], [1514.557293176651, 1775.2809476852417, 436.7499114871025, 573.8501000404358]]}}\n",
      "{'iiif': {'@id': 'http://dl.cini.it/oa/items/73826/canvas.json', 'label': 'T48_38_recto', '@type': 'sc:Canvas', 'width': 3117, 'height': 3847, 'images': [{'@id': 'http://dl.cini.it/oa/files/72786/anno.json', 'motivation': 'sc:painting', '@type': 'oa:Annotation', 'resource': {'@id': 'http://dl.cini.it/files/original/366d9b0da63ace29e064d803495c6977.jpg', '@type': 'dctypes:Image', 'format': 'image/jpeg', 'width': 3117, 'height': 3847, 'service': {'@id': 'http://dl.cini.it:8080/digilib/Scaler/IIIF/366d9b0da63ace29e064d803495c6977.jpg', '@context': 'http://iiif.io/api/image/2/context.json', 'profile': 'http://iiif.io/api/image/2/level2.json'}}, 'on': 'http://dl.cini.it/oa/items/73826/canvas.json'}], 'metadata': [{'label': 'Identifier', 'value': '1c080cec-bd57-41e1-8934-fa799b640c01'}, {'label': 'notes', 'value': 'T48_38_recto'}, {'label': 'originalFileName', 'value': 'T48_38_recto.jpg'}, {'label': 'filename', 'value': '75.jpg'}, {'label': 'fileMD5', 'value': '36e3c697cbf0e6119415d5c97c05b20f'}], 'otherContent': [{'@id': 'http://dl.cini.it/oa/items/73826/annolist.json', '@type': 'sc:AnnotationList'}]}, 'tags': ['Still life photography', 'Monochrome photography', 'Meter', 'Snapshot', 'Black-and-white', 'Style', 'Vintage clothing', 'Photograph', 'Black and white', 'Adaptation', 'Room', 'Human behavior', 'Monochrome', 'Photography', 'Still life', 'Visual arts', 'Stock photography'], 'obj_boxes': {'Top': [[825.6292927265167, 3137.6924527287483, 525.278894752264, 516.0868528485298], [2063.3362120985985, 2570.749818086624, 363.41574651002884, 624.3666882514954]], 'Person': [[2057.5199430584908, 2551.5279064774513, 369.0233759880066, 678.9190003275871], [788.4842049479485, 3319.745823919773, 644.9005205333233, 784.3087502717972]], 'Clothing': [[1745.1971084475517, 2667.899247407913, 332.86612129211426, 586.0354508757591], [1103.212804198265, 2641.436529815197, 452.748128503561, 666.6361371278763], [2067.660791873932, 2512.4869884848595, 356.67518377304077, 556.5356671214104], [818.7200347781181, 2756.721681058407, 426.31091353297234, 598.785625576973], [511.26897110044956, 2727.700444459915, 305.2224475890398, 773.9753877520561], [1789.8669687509537, 3653.657777070999, 532.6445401310921, 529.473332464695]], 'KONE\\n': [[1893, 2391, 41, 40]], 'KONE': [[1893, 2361, 32, 10]]}}\n",
      "{'iiif': {'@id': 'http://dl.cini.it/oa/items/64472/canvas.json', 'label': 'F21_172_recto', '@type': 'sc:Canvas', 'width': 3796, 'height': 3147, 'images': [{'@id': 'http://dl.cini.it/oa/files/63432/anno.json', 'motivation': 'sc:painting', '@type': 'oa:Annotation', 'resource': {'@id': 'http://dl.cini.it/files/original/8df7ae8a61cb6bfd5f72eadb0198166c.jpg', '@type': 'dctypes:Image', 'format': 'image/jpeg', 'width': 3796, 'height': 3147, 'service': {'@id': 'http://dl.cini.it:8080/digilib/Scaler/IIIF/8df7ae8a61cb6bfd5f72eadb0198166c.jpg', '@context': 'http://iiif.io/api/image/2/context.json', 'profile': 'http://iiif.io/api/image/2/level2.json'}}, 'on': 'http://dl.cini.it/oa/items/64472/canvas.json'}], 'metadata': [{'label': 'Identifier', 'value': '0ab61300-ed91-4426-852a-8e23e25c9ecb'}, {'label': 'notes', 'value': 'F21_172_recto'}, {'label': 'originalFileName', 'value': 'F21_172_recto.jpg'}, {'label': 'filename', 'value': '343.jpg'}, {'label': 'fileMD5', 'value': '425b68f99ec7557af1eac72b909a6618'}], 'otherContent': [{'@id': 'http://dl.cini.it/oa/items/64472/annolist.json', '@type': 'sc:AnnotationList'}]}, 'tags': ['Monochrome photography', 'Recreation', 'Child', 'Snapshot', 'Black-and-white', 'Photograph', 'Landscape', 'Monochrome', 'Standing', 'Water', 'Tree', 'Photography', 'Winter', 'Visual arts', 'Sitting', 'Stock photography'], 'obj_boxes': {'Person': [[2819.01829457283, 2461.2222499251366, 839.006110906601, 836.3547999858856], [1564.888601899147, 2034.7314897179604, 437.56465113162994, 711.2247543632984], [2585.551348924637, 2074.570342361927, 350.61017394065857, 557.883680999279]]}}\n",
      "{'iiif': {'@id': 'http://dl.cini.it/oa/items/77034/canvas.json', 'label': 'F27_184_recto', '@type': 'sc:Canvas', 'width': 3856, 'height': 3116, 'images': [{'@id': 'http://dl.cini.it/oa/files/75994/anno.json', 'motivation': 'sc:painting', '@type': 'oa:Annotation', 'resource': {'@id': 'http://dl.cini.it/files/original/abedeeb0cb7777e6a97c146d54961823.jpg', '@type': 'dctypes:Image', 'format': 'image/jpeg', 'width': 3856, 'height': 3116, 'service': {'@id': 'http://dl.cini.it:8080/digilib/Scaler/IIIF/abedeeb0cb7777e6a97c146d54961823.jpg', '@context': 'http://iiif.io/api/image/2/context.json', 'profile': 'http://iiif.io/api/image/2/level2.json'}}, 'on': 'http://dl.cini.it/oa/items/77034/canvas.json'}], 'metadata': [{'label': 'Identifier', 'value': '430ba8c6-2cec-490e-a568-4f95fe43e71f'}, {'label': 'notes', 'value': 'F27_184_recto'}, {'label': 'originalFileName', 'value': 'F27_184_recto.jpg'}, {'label': 'filename', 'value': '367.jpg'}, {'label': 'fileMD5', 'value': '738b552da2b41620a44bf78d11e49b8f'}], 'otherContent': [{'@id': 'http://dl.cini.it/oa/items/77034/annolist.json', '@type': 'sc:AnnotationList'}]}, 'tags': ['Monochrome photography', 'Meter', \"Superdry Men's Monochrome T-Shirt Black Size: M\", 'Square meter', 'Snapshot', 'Clothing', 'Black-and-white', 'Photo caption', 'Photograph', 'Font', 'Human behavior', 'Album cover', 'Square', 'Photography', 'Vintage clothing', 'Art', 'Stock photography'], 'obj_boxes': {'Person': [[272.27225267887115, 2558.1120569705963, 1211.4673126935959, 1415.8074229955673], [2100.5113162994385, 2251.711997270584, 799.6563482284546, 2114.881587073207], [2913.3533277511597, 2279.9361639022827, 751.684850692749, 2158.4915949702263], [1829.3283977508545, 1036.5748423337936, 491.6066646575928, 911.9593960493803], [170.39790695905685, 1157.4441649913788, 594.7530637383461, 998.5642456412315]], 'Clothing': [[1876.5076522827148, 899.7107108831406, 436.6872396469116, 583.5239889621735], [293.3979858160019, 2536.435362100601, 1103.3628588914871, 903.7442603111267]], 'Glasses': [[495.1963505744934, 1603.6265156269073, 469.6137046813965, 229.41707348823547]], 'Furniture': [[951.1049063205719, 2021.078776359558, 849.717337846756, 872.7667678594589]]}}\n",
      "{'iiif': {'@id': 'http://dl.cini.it/oa/items/67558/canvas.json', 'label': 'T11_13_recto', '@type': 'sc:Canvas', 'width': 3120, 'height': 3846, 'images': [{'@id': 'http://dl.cini.it/oa/files/66518/anno.json', 'motivation': 'sc:painting', '@type': 'oa:Annotation', 'resource': {'@id': 'http://dl.cini.it/files/original/7f876d17fd5d19d42eb6bc96e003477f.jpg', '@type': 'dctypes:Image', 'format': 'image/jpeg', 'width': 3120, 'height': 3846, 'service': {'@id': 'http://dl.cini.it:8080/digilib/Scaler/IIIF/7f876d17fd5d19d42eb6bc96e003477f.jpg', '@context': 'http://iiif.io/api/image/2/context.json', 'profile': 'http://iiif.io/api/image/2/level2.json'}}, 'on': 'http://dl.cini.it/oa/items/67558/canvas.json'}], 'metadata': [{'label': 'Identifier', 'value': '97cce98b-0110-4453-b93a-186f71f11ba7'}, {'label': 'notes', 'value': 'T11_13_recto'}, {'label': 'originalFileName', 'value': 'T11_13_recto.jpg'}, {'label': 'filename', 'value': '25.jpg'}, {'label': 'fileMD5', 'value': 'c44956308d2794efc038e5c6ef5410ba'}], 'otherContent': [{'@id': 'http://dl.cini.it/oa/items/67558/annolist.json', '@type': 'sc:AnnotationList'}]}, 'tags': ['Still life photography', 'Picture frame', 'Black-and-white', 'Collection', 'Room', 'Monochrome', 'Visual arts', 'Image', 'Photography', 'Art', 'Stock photography'], 'obj_boxes': {'Furniture': [[852.8237342834473, 3693.0140637159348, 973.1948232650757, 614.7473437786102]], 'Picture frame': [[223.73217165470123, 3218.706609606743, 985.3915518522263, 1965.737113237381]], '707\\n저 하\\n': [[940, 3690, 497, 3236]], '707': [[940, 527, 169, 73]], '저': [[1176, 3654, 88, 121]], '하': [[1348, 3679, 72, 106]]}}\n",
      "{'iiif': {'@id': 'http://dl.cini.it/oa/items/65190/canvas.json', 'label': 'F25_80_recto', '@type': 'sc:Canvas', 'width': 2708, 'height': 3653, 'images': [{'@id': 'http://dl.cini.it/oa/files/64150/anno.json', 'motivation': 'sc:painting', '@type': 'oa:Annotation', 'resource': {'@id': 'http://dl.cini.it/files/original/66b675e10fed770bbf48acc10c76083a.jpg', '@type': 'dctypes:Image', 'format': 'image/jpeg', 'width': 2708, 'height': 3653, 'service': {'@id': 'http://dl.cini.it:8080/digilib/Scaler/IIIF/66b675e10fed770bbf48acc10c76083a.jpg', '@context': 'http://iiif.io/api/image/2/context.json', 'profile': 'http://iiif.io/api/image/2/level2.json'}}, 'on': 'http://dl.cini.it/oa/items/65190/canvas.json'}], 'metadata': [{'label': 'Identifier', 'value': '9c4e31e4-f976-4a59-8274-553e8ae6d0c2'}, {'label': 'notes', 'value': 'F25_80_recto'}, {'label': 'originalFileName', 'value': 'F25_80_recto.jpg'}, {'label': 'filename', 'value': '159.jpg'}, {'label': 'fileMD5', 'value': '022b5b853e0e706d1467fe8bd67e5e24'}], 'otherContent': [{'@id': 'http://dl.cini.it/oa/items/65190/annolist.json', '@type': 'sc:AnnotationList'}]}, 'tags': ['Pelle di leopardo', 'Vietnam soul: racconti', 'E-book', 'Photography', 'I am a part of everything that I have read.', 'Stock photography', 'Black-and-white', 'Photograph', 'Portrait', 'Snapshot', 'Room', 'I migliori e più entusiasmanti itinerari in bicicletta', 'Tiziano Terzani', 'Book', 'In Asia', 'Behind the forbidden door', 'Monochrome', 'Standing', 'Giai Phong! The Fall and Liberation of Saigon', 'Sitting'], 'obj_boxes': {'Footwear': [[908.0146704912186, 3341.4146735072136, 330.01551604270935, 350.5175703763962], [1309.0603202581406, 3338.882188796997, 254.92859971523285, 375.66496282815933]], 'Person': [[994.3672350645065, 3297.369776070118, 967.1148756742477, 2028.4497064948082], [1022.8664819002151, 3321.8478487730026, 948.9492186307907, 2077.004891484976]], 'Chair': [[1834.023097038269, 3369.6650183796883, 733.0400447845459, 1503.2621084451675]], 'Luggage & bags': [[616.626476585865, 3149.5245772004128, 436.97557908296585, 580.5340704917908]], 'Scarf': [[1336.64816904068, 2207.6468962430954, 416.0212118625641, 604.6085699498653]], 'Furniture': [[1156.3008707761765, 3201.1153253912926, 802.3565758466721, 1228.8795506358147]], '1T\\n': [[621, 3160, 97, 68]], '1T': [[632, 3160, 86, 45]]}}\n",
      "{'iiif': {'@id': 'http://dl.cini.it/oa/items/72956/canvas.json', 'label': 'T41_13_recto', '@type': 'sc:Canvas', 'width': 3834, 'height': 3116, 'images': [{'@id': 'http://dl.cini.it/oa/files/71916/anno.json', 'motivation': 'sc:painting', '@type': 'oa:Annotation', 'resource': {'@id': 'http://dl.cini.it/files/original/4f648e38c19a154af2ab45fec2fbb63f.jpg', '@type': 'dctypes:Image', 'format': 'image/jpeg', 'width': 3834, 'height': 3116, 'service': {'@id': 'http://dl.cini.it:8080/digilib/Scaler/IIIF/4f648e38c19a154af2ab45fec2fbb63f.jpg', '@context': 'http://iiif.io/api/image/2/context.json', 'profile': 'http://iiif.io/api/image/2/level2.json'}}, 'on': 'http://dl.cini.it/oa/items/72956/canvas.json'}], 'metadata': [{'label': 'Identifier', 'value': 'c06a717f-9557-4348-8cb8-88ecbd549d10'}, {'label': 'notes', 'value': 'T41_13_recto'}, {'label': 'originalFileName', 'value': 'T41_13_recto.jpg'}, {'label': 'filename', 'value': '25.jpg'}, {'label': 'fileMD5', 'value': '6b408f4d857c0744d4cba6299826680e'}], 'otherContent': [{'@id': 'http://dl.cini.it/oa/items/72956/annolist.json', '@type': 'sc:AnnotationList'}]}, 'tags': ['Snapshot', 'Photograph', 'Adaptation', 'Water', 'Visual arts', 'Photography', 'Art', 'Stock photography'], 'obj_boxes': {'Person': [[2184.088125228882, 2398.4767351150513, 365.1279813051224, 1244.5367016792297], [2373.5840549468994, 2326.640645265579, 382.55935084819794, 1171.7373331785202]]}}\n",
      "{'iiif': {'@id': 'http://dl.cini.it/oa/items/75908/canvas.json', 'label': 'T66_76_recto', '@type': 'sc:Canvas', 'width': 3844, 'height': 3113, 'images': [{'@id': 'http://dl.cini.it/oa/files/74868/anno.json', 'motivation': 'sc:painting', '@type': 'oa:Annotation', 'resource': {'@id': 'http://dl.cini.it/files/original/55912a94058975b53000dceaee74c5c3.jpg', '@type': 'dctypes:Image', 'format': 'image/jpeg', 'width': 3844, 'height': 3113, 'service': {'@id': 'http://dl.cini.it:8080/digilib/Scaler/IIIF/55912a94058975b53000dceaee74c5c3.jpg', '@context': 'http://iiif.io/api/image/2/context.json', 'profile': 'http://iiif.io/api/image/2/level2.json'}}, 'on': 'http://dl.cini.it/oa/items/75908/canvas.json'}], 'metadata': [{'label': 'Identifier', 'value': 'bbf3799d-aad3-49c6-a3ec-d73d7c7993cb'}, {'label': 'notes', 'value': 'T66_76_recto'}, {'label': 'originalFileName', 'value': 'T66_76_recto.jpg'}, {'label': 'filename', 'value': '151.jpg'}, {'label': 'fileMD5', 'value': '0ae6b8d42ac997de9c23cf1d39165fb6'}], 'otherContent': [{'@id': 'http://dl.cini.it/oa/items/75908/annolist.json', '@type': 'sc:AnnotationList'}]}, 'tags': ['Text', 'Monochrome photography', 'Picture frame', 'Sea', 'Black-and-white', 'White', 'Photograph', 'Water', 'Monochrome', 'Tree', 'Photography', 'Visual arts', 'Calm', 'Stock photography'], 'obj_boxes': {'Animal': [[181.8272707015276, 2642.4943937659264, 465.1817501038313, 279.20005238056183]]}}\n",
      "{'iiif': {'@id': 'http://dl.cini.it/oa/items/64554/canvas.json', 'label': 'F21_213_recto', '@type': 'sc:Canvas', 'width': 3048, 'height': 3875, 'images': [{'@id': 'http://dl.cini.it/oa/files/63514/anno.json', 'motivation': 'sc:painting', '@type': 'oa:Annotation', 'resource': {'@id': 'http://dl.cini.it/files/original/1e6d21efa0aea2c208522a024e5be883.jpg', '@type': 'dctypes:Image', 'format': 'image/jpeg', 'width': 3048, 'height': 3875, 'service': {'@id': 'http://dl.cini.it:8080/digilib/Scaler/IIIF/1e6d21efa0aea2c208522a024e5be883.jpg', '@context': 'http://iiif.io/api/image/2/context.json', 'profile': 'http://iiif.io/api/image/2/level2.json'}}, 'on': 'http://dl.cini.it/oa/items/64554/canvas.json'}], 'metadata': [{'label': 'Identifier', 'value': '9296b09f-ad8d-4221-92ed-74b2edb72a3f'}, {'label': 'notes', 'value': 'F21_213_recto'}, {'label': 'originalFileName', 'value': 'F21_213_recto.jpg'}, {'label': 'filename', 'value': '425.jpg'}, {'label': 'fileMD5', 'value': '459adadf4b0090a28406a1c3d0e3f257'}], 'otherContent': [{'@id': 'http://dl.cini.it/oa/items/64554/annolist.json', '@type': 'sc:AnnotationList'}]}, 'tags': ['Snapshot', 'Black-and-white', 'Photograph', 'Monochrome', 'Motor vehicle', 'Poster', 'Photography', 'Art', 'Stock photography'], 'obj_boxes': {'Train': [[531.4759622812271, 2920.5309823155403, 2068.6881827116013, 2299.560757353902]], 'Person': [[1232.3521041870117, 2885.915346443653, 374.1379551887512, 1090.6888619065285], [426.9456421136856, 2906.1074927449226, 239.41389298439026, 1101.7562709748745], [823.4116766452789, 2831.2251269817352, 297.46748971939087, 1016.236674040556], [1128.005366563797, 2593.499004840851, 199.9162130355835, 726.2830287218094], [615.9711681604385, 2650.8541330695152, 249.4803661108017, 734.9357828497887], [617.017070889473, 2579.043872654438, 240.8189216852188, 696.7462636530399]], 'Clothing': [[1273.8779125213623, 2777.4010375142097, 281.2155747413635, 511.3908648490906], [838.6597466468811, 2401.6165658831596, 303.5684072971344, 475.4709526896477], [1269.1201179027557, 2369.9822649359703, 331.8037841320038, 451.5393190085888]]}}\n",
      "{'iiif': {'@id': 'http://dl.cini.it/oa/items/64328/canvas.json', 'label': 'F21_100_recto', '@type': 'sc:Canvas', 'width': 3816, 'height': 3110, 'images': [{'@id': 'http://dl.cini.it/oa/files/63288/anno.json', 'motivation': 'sc:painting', '@type': 'oa:Annotation', 'resource': {'@id': 'http://dl.cini.it/files/original/db3daaf6f6feb2dcf9d94eb4ad0be992.jpg', '@type': 'dctypes:Image', 'format': 'image/jpeg', 'width': 3816, 'height': 3110, 'service': {'@id': 'http://dl.cini.it:8080/digilib/Scaler/IIIF/db3daaf6f6feb2dcf9d94eb4ad0be992.jpg', '@context': 'http://iiif.io/api/image/2/context.json', 'profile': 'http://iiif.io/api/image/2/level2.json'}}, 'on': 'http://dl.cini.it/oa/items/64328/canvas.json'}], 'metadata': [{'label': 'Identifier', 'value': '8ad0d611-3aed-423a-962e-830fdb49e9ac'}, {'label': 'notes', 'value': 'F21_100_recto'}, {'label': 'originalFileName', 'value': 'F21_100_recto.jpg'}, {'label': 'filename', 'value': '199.jpg'}, {'label': 'fileMD5', 'value': '994d907ca3392dd0305ec9c015c474cc'}], 'otherContent': [{'@id': 'http://dl.cini.it/oa/items/64328/annolist.json', '@type': 'sc:AnnotationList'}]}, 'tags': ['Monochrome photography', 'Snapshot', 'Black-and-white', 'Style', 'Wedding', 'Dress', 'White', 'Photograph', 'Adaptation', 'Bride', 'Wedding_M', 'Monochrome', 'Photography', 'Stock photography'], 'obj_boxes': {'Person': [[1108.0402722358704, 2389.9687308073044, 410.8904764652252, 1357.182485461235], [1393.9087164402008, 2413.004159927368, 473.08556270599365, 1326.4702174067497]], 'Pants': [[1154.818707704544, 2341.4190989732742, 343.13579750061035, 787.6198360323906], [1480.5706279277802, 2370.67389190197, 254.34812593460083, 574.9273627996445]], 'FACG\\n': [[690, 1522, 87, 62]], 'FACG': [[690, 1519, 85, 59]]}}\n",
      "{'iiif': {'@id': 'http://dl.cini.it/oa/items/77666/canvas.json', 'label': 'T10_101_recto', '@type': 'sc:Canvas', 'width': 3117, 'height': 3862, 'images': [{'@id': 'http://dl.cini.it/oa/files/76626/anno.json', 'motivation': 'sc:painting', '@type': 'oa:Annotation', 'resource': {'@id': 'http://dl.cini.it/files/original/3cfb68544a7d91f98983de1dfcede5b5.jpg', '@type': 'dctypes:Image', 'format': 'image/jpeg', 'width': 3117, 'height': 3862, 'service': {'@id': 'http://dl.cini.it:8080/digilib/Scaler/IIIF/3cfb68544a7d91f98983de1dfcede5b5.jpg', '@context': 'http://iiif.io/api/image/2/context.json', 'profile': 'http://iiif.io/api/image/2/level2.json'}}, 'on': 'http://dl.cini.it/oa/items/77666/canvas.json'}], 'metadata': [{'label': 'Identifier', 'value': '3564a392-4319-46cc-9dfd-20d1c891e232'}, {'label': 'notes', 'value': 'T10_101_recto'}, {'label': 'originalFileName', 'value': 'T10_101_recto.jpg'}, {'label': 'filename', 'value': '201.jpg'}, {'label': 'fileMD5', 'value': 'e786131cd49eac3d57f3b0874f3bb9b8'}], 'otherContent': [{'@id': 'http://dl.cini.it/oa/items/77666/annolist.json', '@type': 'sc:AnnotationList'}]}, 'tags': ['Monochrome photography', 'Meter', 'Snapshot', 'Black-and-white', 'Style', 'Behavior', 'Photograph', 'Adaptation', 'Human behavior', 'Monochrome', 'Photography', 'Human', 'Crowd', 'Stock photography'], 'obj_boxes': {'Person': [[529.0945091843605, 3660.6263521909714, 849.9471347630024, 1091.4810214042664], [1672.2598387598991, 3677.8346704244614, 915.07379758358, 828.1013989448547], [2347.2853667736053, 2473.8810515403748, 421.6341732144356, 1632.005643337965], [1425.475929826498, 3101.9775310754776, 656.9685449302197, 961.3399496078491], [916.0390574634075, 3031.5589179992676, 596.5189011096954, 857.7578715085983], [448.63957335054874, 2217.168743133545, 225.14122366905212, 956.2265543341637]], 'Clothing': [[567.7250158935785, 3640.8992606401443, 803.0664475411177, 845.7756280899048], [2384.855165183544, 1615.1707559227943, 395.6684873700142, 590.210947573185], [2475.882209479809, 2516.1649988889694, 294.8970651626587, 951.3674073815346], [1601.115977525711, 3680.6978126764297, 983.8458933234215, 735.8234152793884]]}}\n"
     ]
    }
   ],
   "source": [
    "# selecting the <terzani_photos> database\n",
    "mango_db = mangoclient[\"terzani_photos\"]\n",
    "# creating a new collection named <sample_annotations>\n",
    "mango_collection = mango_db[\"sample_annotations\"]\n",
    "# inserting the dictionary into the db\n",
    "for label, annotations in annotated_images.items():\n",
    "    x = mango_collection.insert_({label:annotations})"
   ]
  },
  {
   "cell_type": "code",
   "execution_count": null,
   "metadata": {},
   "outputs": [],
   "source": []
  }
 ],
 "metadata": {
  "kernelspec": {
   "display_name": "Python 3",
   "language": "python",
   "name": "python3"
  },
  "language_info": {
   "codemirror_mode": {
    "name": "ipython",
    "version": 3
   },
   "file_extension": ".py",
   "mimetype": "text/x-python",
   "name": "python",
   "nbconvert_exporter": "python",
   "pygments_lexer": "ipython3",
   "version": "3.8.3"
  }
 },
 "nbformat": 4,
 "nbformat_minor": 4
}
