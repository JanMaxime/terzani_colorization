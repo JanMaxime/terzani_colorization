{
 "cells": [
  {
   "cell_type": "markdown",
   "metadata": {},
   "source": [
    "# Demo Notebook for using Google Vision API\n",
    "\n",
    "In this notebook we explore the google vision API and try its various methods"
   ]
  },
  {
   "cell_type": "markdown",
   "metadata": {},
   "source": [
    "## Installing the client library\n",
    "\n",
    "If the Google cloud vision library is not installed already, install it.\n",
    "\n",
    "```shell\n",
    "pip install --upgrade google-cloud-vision\n",
    "```"
   ]
  },
  {
   "cell_type": "markdown",
   "metadata": {},
   "source": [
    "## Import the standard libraries"
   ]
  },
  {
   "cell_type": "code",
   "execution_count": 1,
   "metadata": {},
   "outputs": [],
   "source": [
    "import os, io"
   ]
  },
  {
   "cell_type": "markdown",
   "metadata": {},
   "source": [
    "## Import Vison API related libraries"
   ]
  },
  {
   "cell_type": "code",
   "execution_count": 4,
   "metadata": {},
   "outputs": [],
   "source": [
    "from google.cloud import vision\n",
    "from google.cloud.vision import types"
   ]
  },
  {
   "cell_type": "markdown",
   "metadata": {},
   "source": [
    "# Setup the service account credentials to use the API"
   ]
  },
  {
   "cell_type": "code",
   "execution_count": 5,
   "metadata": {},
   "outputs": [],
   "source": [
    "os.environ['GOOGLE_APPLICATION_CREDENTIALS'] = r'F:\\EPFL\\1st Year\\Sem 1\\DH_405_Foundation_of_Digital_Humanities\\Project\\My Project-1c871315ad69.json'"
   ]
  },
  {
   "cell_type": "markdown",
   "metadata": {},
   "source": [
    "# Creation of Client to access the API"
   ]
  },
  {
   "cell_type": "code",
   "execution_count": 6,
   "metadata": {},
   "outputs": [],
   "source": [
    "client = vision.ImageAnnotatorClient()"
   ]
  },
  {
   "cell_type": "markdown",
   "metadata": {},
   "source": [
    "In the next cell, we print to see the methods available with the Image Annotator client. \n",
    "Those of our interest are 'annotate_image', 'document_text_detection','face_detection', 'image_properties','label_detection', 'landmark_detection', 'logo_detection', 'object_localization', 'product_search', 'safe_search_detection', 'text_detection', 'transport', 'web_detection'"
   ]
  },
  {
   "cell_type": "code",
   "execution_count": 7,
   "metadata": {},
   "outputs": [
    {
     "data": {
      "text/plain": [
       "['SERVICE_ADDRESS',\n",
       " '_INTERFACE_NAME',\n",
       " '__class__',\n",
       " '__delattr__',\n",
       " '__dict__',\n",
       " '__dir__',\n",
       " '__doc__',\n",
       " '__eq__',\n",
       " '__format__',\n",
       " '__ge__',\n",
       " '__getattribute__',\n",
       " '__gt__',\n",
       " '__hash__',\n",
       " '__init__',\n",
       " '__init_subclass__',\n",
       " '__le__',\n",
       " '__lt__',\n",
       " '__module__',\n",
       " '__ne__',\n",
       " '__new__',\n",
       " '__reduce__',\n",
       " '__reduce_ex__',\n",
       " '__repr__',\n",
       " '__setattr__',\n",
       " '__sizeof__',\n",
       " '__str__',\n",
       " '__subclasshook__',\n",
       " '__weakref__',\n",
       " '_client_info',\n",
       " '_get_all_features',\n",
       " '_inner_api_calls',\n",
       " '_method_configs',\n",
       " 'annotate_image',\n",
       " 'async_batch_annotate_files',\n",
       " 'async_batch_annotate_images',\n",
       " 'batch_annotate_files',\n",
       " 'batch_annotate_images',\n",
       " 'crop_hints',\n",
       " 'document_text_detection',\n",
       " 'enums',\n",
       " 'face_detection',\n",
       " 'from_service_account_file',\n",
       " 'from_service_account_json',\n",
       " 'image_properties',\n",
       " 'label_detection',\n",
       " 'landmark_detection',\n",
       " 'logo_detection',\n",
       " 'object_localization',\n",
       " 'product_search',\n",
       " 'safe_search_detection',\n",
       " 'text_detection',\n",
       " 'transport',\n",
       " 'web_detection']"
      ]
     },
     "execution_count": 7,
     "metadata": {},
     "output_type": "execute_result"
    }
   ],
   "source": [
    "dir(client)"
   ]
  },
  {
   "cell_type": "markdown",
   "metadata": {},
   "source": [
    "# Detecting Text"
   ]
  },
  {
   "cell_type": "markdown",
   "metadata": {},
   "source": [
    "Let's get an image from one the Terzani pictures. \n",
    "image url = http://dl.cini.it/files/original/cb46e00d902f9936224ca6ef81834a35.jpg"
   ]
  },
  {
   "cell_type": "markdown",
   "metadata": {},
   "source": [
    "### Displaying the image"
   ]
  },
  {
   "cell_type": "code",
   "execution_count": 16,
   "metadata": {},
   "outputs": [
    {
     "data": {
      "text/html": [
       "<img src=\"http://dl.cini.it/files/original/cb46e00d902f9936224ca6ef81834a35.jpg\"/>"
      ],
      "text/plain": [
       "<IPython.core.display.Image object>"
      ]
     },
     "execution_count": 16,
     "metadata": {},
     "output_type": "execute_result"
    }
   ],
   "source": [
    "from IPython.display import Image\n",
    "from IPython.core.display import HTML\n",
    "img_url = \"http://dl.cini.it/files/original/cb46e00d902f9936224ca6ef81834a35.jpg\"\n",
    "Image(url= img_url)"
   ]
  },
  {
   "cell_type": "code",
   "execution_count": 49,
   "metadata": {},
   "outputs": [],
   "source": [
    "img_url = \"http://dl.cini.it:8080/digilib/Scaler/IIIF/640b4239dc5a4a861e5e58b1ba85624e/full/max/0/default.jpg\"\n",
    "image = vision.types.Image()\n",
    "image.source.image_uri = img_url"
   ]
  },
  {
   "cell_type": "code",
   "execution_count": 23,
   "metadata": {},
   "outputs": [],
   "source": [
    "image_path = \"test.jpg\"\n",
    "with io.open(image_path, 'rb') as image_file:\n",
    "    content = image_file.read()\n",
    "image = vision.types.Image(content=content)"
   ]
  },
  {
   "cell_type": "code",
   "execution_count": 50,
   "metadata": {},
   "outputs": [],
   "source": [
    "response = client.text_detection(image=image)\n",
    "texts = response.text_annotations"
   ]
  },
  {
   "cell_type": "code",
   "execution_count": 51,
   "metadata": {},
   "outputs": [
    {
     "data": {
      "text/plain": []
     },
     "execution_count": 51,
     "metadata": {},
     "output_type": "execute_result"
    }
   ],
   "source": [
    "response"
   ]
  },
  {
   "cell_type": "code",
   "execution_count": 47,
   "metadata": {},
   "outputs": [
    {
     "data": {
      "text/plain": [
       "[]"
      ]
     },
     "execution_count": 47,
     "metadata": {},
     "output_type": "execute_result"
    }
   ],
   "source": [
    "texts"
   ]
  },
  {
   "cell_type": "code",
   "execution_count": null,
   "metadata": {},
   "outputs": [],
   "source": []
  }
 ],
 "metadata": {
  "kernelspec": {
   "display_name": "Python 3",
   "language": "python",
   "name": "python3"
  },
  "language_info": {
   "codemirror_mode": {
    "name": "ipython",
    "version": 3
   },
   "file_extension": ".py",
   "mimetype": "text/x-python",
   "name": "python",
   "nbconvert_exporter": "python",
   "pygments_lexer": "ipython3",
   "version": "3.8.3"
  }
 },
 "nbformat": 4,
 "nbformat_minor": 4
}
